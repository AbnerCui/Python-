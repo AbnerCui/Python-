{
 "cells": [
  {
   "cell_type": "markdown",
   "metadata": {},
   "source": [
    "# Python 基础语法"
   ]
  },
  {
   "cell_type": "code",
   "execution_count": 2,
   "metadata": {},
   "outputs": [
    {
     "name": "stdout",
     "output_type": "stream",
     "text": [
      "['a', 'b', 'c', 'd', 'e'] <class 'list'>\n"
     ]
    }
   ],
   "source": [
    "a = ['a','b','c','d','e']\n",
    "print(a, type(a))"
   ]
  },
  {
   "cell_type": "code",
   "execution_count": 3,
   "metadata": {},
   "outputs": [
    {
     "name": "stdout",
     "output_type": "stream",
     "text": [
      "['a', 'b', 'c', 'd', 'e', 'ddd']\n",
      "e\n"
     ]
    }
   ],
   "source": [
    "#增删改查\n",
    "a.append('ddd')\n",
    "print(a)\n",
    "print(a[4])"
   ]
  },
  {
   "cell_type": "code",
   "execution_count": 13,
   "metadata": {},
   "outputs": [
    {
     "name": "stdout",
     "output_type": "stream",
     "text": [
      "10\n"
     ]
    }
   ],
   "source": [
    "d = {1:'a',2:'b',3:'c','d':'apple'} \n",
    "d[4] = 55\n",
    "d['W1'] = 10\n",
    "net = {'W1'}\n",
    "print(d['W1'])"
   ]
  },
  {
   "cell_type": "code",
   "execution_count": 14,
   "metadata": {},
   "outputs": [
    {
     "name": "stdout",
     "output_type": "stream",
     "text": [
      "大于10\n"
     ]
    }
   ],
   "source": [
    "a = 20\n",
    "if a<3:\n",
    "    print(\"小于3\")\n",
    "elif a>10:\n",
    "    print(\"大于10\")\n",
    "else:\n",
    "    print(\"执行代码\")"
   ]
  },
  {
   "cell_type": "code",
   "execution_count": 15,
   "metadata": {},
   "outputs": [
    {
     "name": "stdout",
     "output_type": "stream",
     "text": [
      "a\n",
      "b\n",
      "c\n"
     ]
    }
   ],
   "source": [
    "a = ['a','b','c']\n",
    "for item in a :\n",
    "    print(item)"
   ]
  },
  {
   "cell_type": "code",
   "execution_count": 16,
   "metadata": {},
   "outputs": [
    {
     "name": "stdout",
     "output_type": "stream",
     "text": [
      "11\n",
      "12\n",
      "13\n",
      "14\n",
      "15\n"
     ]
    }
   ],
   "source": [
    "a = 10\n",
    "while a < 15:\n",
    "    a = a+1\n",
    "    print(a)"
   ]
  },
  {
   "cell_type": "code",
   "execution_count": 17,
   "metadata": {},
   "outputs": [
    {
     "name": "stdout",
     "output_type": "stream",
     "text": [
      "Hello  print !\n"
     ]
    }
   ],
   "source": [
    "def hello(name):\n",
    "    print(\"Hello \", name, \"!\")\n",
    "hello('print')"
   ]
  },
  {
   "cell_type": "code",
   "execution_count": 18,
   "metadata": {},
   "outputs": [
    {
     "name": "stdout",
     "output_type": "stream",
     "text": [
      "15\n"
     ]
    }
   ],
   "source": [
    "def add(x):\n",
    "    y = x + 10\n",
    "    return y\n",
    "z = add(5)\n",
    "print(z)"
   ]
  },
  {
   "cell_type": "code",
   "execution_count": 19,
   "metadata": {},
   "outputs": [
    {
     "name": "stdout",
     "output_type": "stream",
     "text": [
      "我正在吃饭 82\n",
      "182 82\n"
     ]
    }
   ],
   "source": [
    "class Mankind:\n",
    "    def __init__(self, height, weight):\n",
    "        self.height = height\n",
    "        self.weight = weight\n",
    "    \n",
    "    def eat(self):\n",
    "        print(\"我正在吃饭\",self.weight)\n",
    "\n",
    "jack = Mankind(182, 82)\n",
    "tom = Mankind(180, 72)\n",
    "jack.eat()\n",
    "print(jack.height, jack.weight)"
   ]
  },
  {
   "cell_type": "markdown",
   "metadata": {},
   "source": [
    "# Numpy 基础入法"
   ]
  },
  {
   "cell_type": "code",
   "execution_count": 20,
   "metadata": {},
   "outputs": [
    {
     "data": {
      "text/plain": [
       "'\\n需要import来导入\\n'"
      ]
     },
     "execution_count": 20,
     "metadata": {},
     "output_type": "execute_result"
    }
   ],
   "source": [
    "import numpy as np\n",
    "#numpy是一个外部库\n",
    "\"\"\"\n",
    "需要import来导入\n",
    "\"\"\""
   ]
  },
  {
   "cell_type": "code",
   "execution_count": 21,
   "metadata": {},
   "outputs": [
    {
     "name": "stdout",
     "output_type": "stream",
     "text": [
      "[1. 2. 3. 1.]\n"
     ]
    }
   ],
   "source": [
    "#numpy的数组的定义\n",
    "x = np.array([1.0,2.0,3.0,1])\n",
    "print(x)"
   ]
  },
  {
   "cell_type": "code",
   "execution_count": 22,
   "metadata": {},
   "outputs": [
    {
     "name": "stdout",
     "output_type": "stream",
     "text": [
      "<class 'numpy.ndarray'>\n",
      "[-0.9  6.  -3. ]\n",
      "[ 2.2 40.  18. ]\n",
      "[0.55 2.5  0.5 ]\n",
      "[0. 2. 0.]\n",
      "[1.1 2.  3. ]\n"
     ]
    }
   ],
   "source": [
    "#算术运算 \n",
    "x = np.array([1.1, 10.0, 3.0])\n",
    "y = np.array([2.0, 4.0, 6.0])\n",
    "print(type(x + y))\n",
    "print(x - y)\n",
    "print(x * y)\n",
    "print(x / y)\n",
    "print(x // y)\n",
    "print(x % y)"
   ]
  },
  {
   "cell_type": "code",
   "execution_count": 23,
   "metadata": {},
   "outputs": [
    {
     "name": "stdout",
     "output_type": "stream",
     "text": [
      "1.0\n"
     ]
    }
   ],
   "source": [
    "#多维数组\n",
    "x = np.array([[1.0, 2.0], [3.0, 4.0]])\n",
    "print(x[0][0])"
   ]
  },
  {
   "cell_type": "code",
   "execution_count": 24,
   "metadata": {},
   "outputs": [
    {
     "name": "stdout",
     "output_type": "stream",
     "text": [
      "[[1. 2.]\n",
      " [3. 4.]\n",
      " [5. 6.]]\n",
      "[[1. 3. 5.]\n",
      " [2. 4. 6.]]\n"
     ]
    }
   ],
   "source": [
    "#转置\n",
    "x = np.array([[1.0, 2.0], [3.0, 4.0], [5.0, 6.0]])\n",
    "print(x)\n",
    "print(x.T)"
   ]
  },
  {
   "cell_type": "code",
   "execution_count": 26,
   "metadata": {},
   "outputs": [
    {
     "name": "stdout",
     "output_type": "stream",
     "text": [
      "[[ 1.  4.]\n",
      " [ 3.  8.]\n",
      " [ 5. 12.]]\n"
     ]
    }
   ],
   "source": [
    "y = np.array([[1.0, 2.0]])\n",
    "#broadcasting广播\n",
    "print(x * y)"
   ]
  },
  {
   "cell_type": "code",
   "execution_count": 28,
   "metadata": {},
   "outputs": [
    {
     "name": "stdout",
     "output_type": "stream",
     "text": [
      "[[1. 2.]\n",
      " [3. 4.]\n",
      " [5. 6.]]\n",
      "[[1. 2.]]\n",
      "[[ 5.]\n",
      " [11.]\n",
      " [17.]]\n"
     ]
    }
   ],
   "source": [
    "#dot\n",
    "print(x)\n",
    "print(y)\n",
    "z = np.dot(x,y.T) \n",
    "print(z)"
   ]
  },
  {
   "cell_type": "code",
   "execution_count": 29,
   "metadata": {},
   "outputs": [
    {
     "name": "stdout",
     "output_type": "stream",
     "text": [
      "[[1. 2.]\n",
      " [3. 4.]]\n",
      "[[5. 7. 1. 2.]\n",
      " [6. 8. 3. 4.]]\n"
     ]
    }
   ],
   "source": [
    "#增删改查\n",
    "#插入：\n",
    "x = np.array([[1.0, 2.0], [3.0, 4.0]])\n",
    "x_add = np.array([[5.0, 6.0],[7.0, 8.0]])\n",
    "print(x)\n",
    "x = np.insert(x,0,x_add,axis=1)\n",
    "print(x)"
   ]
  },
  {
   "cell_type": "code",
   "execution_count": 30,
   "metadata": {},
   "outputs": [
    {
     "name": "stdout",
     "output_type": "stream",
     "text": [
      "[[1. 2.]\n",
      " [3. 4.]]\n",
      "[[1. 2. 5. 6.]\n",
      " [3. 4. 7. 8.]]\n"
     ]
    }
   ],
   "source": [
    "x = np.array([[1.0, 2.0], [3.0, 4.0]])\n",
    "print(x)\n",
    "x = np.append(x, x_add, axis=1)\n",
    "print(x)"
   ]
  },
  {
   "cell_type": "code",
   "execution_count": 31,
   "metadata": {},
   "outputs": [
    {
     "name": "stdout",
     "output_type": "stream",
     "text": [
      "[[1. 2. 5. 6.]\n",
      " [3. 4. 7. 8.]]\n",
      "[[3. 4. 7. 8.]]\n"
     ]
    }
   ],
   "source": [
    "#删除\n",
    "print(x)\n",
    "x = np.delete(x, 0, axis=0)\n",
    "print(x)"
   ]
  },
  {
   "cell_type": "code",
   "execution_count": 32,
   "metadata": {},
   "outputs": [
    {
     "name": "stdout",
     "output_type": "stream",
     "text": [
      "[[7. 2.]\n",
      " [3. 4.]]\n"
     ]
    }
   ],
   "source": [
    "x = np.array([[1., 2], [3, 4]])\n",
    "x[0][0] = 7\n",
    "print(x)"
   ]
  },
  {
   "cell_type": "code",
   "execution_count": null,
   "metadata": {},
   "outputs": [],
   "source": []
  }
 ],
 "metadata": {
  "kernelspec": {
   "display_name": "Python 3",
   "language": "python",
   "name": "python3"
  },
  "language_info": {
   "codemirror_mode": {
    "name": "ipython",
    "version": 3
   },
   "file_extension": ".py",
   "mimetype": "text/x-python",
   "name": "python",
   "nbconvert_exporter": "python",
   "pygments_lexer": "ipython3",
   "version": "3.6.4"
  }
 },
 "nbformat": 4,
 "nbformat_minor": 2
}
